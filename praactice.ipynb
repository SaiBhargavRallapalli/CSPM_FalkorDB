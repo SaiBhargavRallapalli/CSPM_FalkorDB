{
 "cells": [
  {
   "cell_type": "code",
   "execution_count": 1,
   "id": "c191f8e1",
   "metadata": {},
   "outputs": [],
   "source": [
    "from langchain.chains import FalkorDBQAChain\n",
    "from langchain_community.graphs import FalkorDBGraph\n",
    "from langchain_openai import ChatOpenAI"
   ]
  },
  {
   "cell_type": "code",
   "execution_count": 2,
   "id": "f643c8b0",
   "metadata": {},
   "outputs": [],
   "source": [
    "graph = FalkorDBGraph(database=\"movies\")"
   ]
  },
  {
   "cell_type": "code",
   "execution_count": 3,
   "id": "48f6e0e1",
   "metadata": {},
   "outputs": [
    {
     "data": {
      "text/plain": [
       "[]"
      ]
     },
     "execution_count": 3,
     "metadata": {},
     "output_type": "execute_result"
    }
   ],
   "source": [
    "graph.query(\n",
    "    \"\"\"\n",
    "    CREATE \n",
    "        (al:Person {name: 'Al Pacino', birthDate: '1940-04-25'}),\n",
    "        (robert:Person {name: 'Robert De Niro', birthDate: '1943-08-17'}),\n",
    "        (tom:Person {name: 'Tom Cruise', birthDate: '1962-07-3'}),\n",
    "        (val:Person {name: 'Val Kilmer', birthDate: '1959-12-31'}),\n",
    "        (anthony:Person {name: 'Anthony Edwards', birthDate: '1962-7-19'}),\n",
    "        (meg:Person {name: 'Meg Ryan', birthDate: '1961-11-19'}),\n",
    "\n",
    "        (god1:Movie {title: 'The Godfather'}),\n",
    "        (god2:Movie {title: 'The Godfather: Part II'}),\n",
    "        (god3:Movie {title: 'The Godfather Coda: The Death of Michael Corleone'}),\n",
    "        (top:Movie {title: 'Top Gun'}),\n",
    "\n",
    "        (al)-[:ACTED_IN]->(god1),\n",
    "        (al)-[:ACTED_IN]->(god2),\n",
    "        (al)-[:ACTED_IN]->(god3),\n",
    "        (robert)-[:ACTED_IN]->(god2),\n",
    "        (tom)-[:ACTED_IN]->(top),\n",
    "        (val)-[:ACTED_IN]->(top),\n",
    "        (anthony)-[:ACTED_IN]->(top),\n",
    "        (meg)-[:ACTED_IN]->(top)\n",
    "\"\"\"\n",
    ")"
   ]
  },
  {
   "cell_type": "code",
   "execution_count": null,
   "id": "e4abe977",
   "metadata": {},
   "outputs": [],
   "source": [
    "graph.refresh_schema()\n",
    "print(graph.schema)\n",
    "\n",
    "import os\n",
    "\n",
    "os.environ[\"OPENAI_API_KEY\"] = \"API_KEY_HERE\""
   ]
  }
 ],
 "metadata": {
  "kernelspec": {
   "display_name": "Python 3",
   "language": "python",
   "name": "python3"
  },
  "language_info": {
   "codemirror_mode": {
    "name": "ipython",
    "version": 3
   },
   "file_extension": ".py",
   "mimetype": "text/x-python",
   "name": "python",
   "nbconvert_exporter": "python",
   "pygments_lexer": "ipython3",
   "version": "3.12.9"
  }
 },
 "nbformat": 4,
 "nbformat_minor": 5
}
