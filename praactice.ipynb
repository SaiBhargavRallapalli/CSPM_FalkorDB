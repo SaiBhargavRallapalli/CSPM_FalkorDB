{
 "cells": [
  {
   "cell_type": "code",
   "execution_count": 1,
   "id": "c191f8e1",
   "metadata": {},
   "outputs": [],
   "source": [
    "from langchain.chains import FalkorDBQAChain\n",
    "from langchain_community.graphs import FalkorDBGraph\n",
    "from langchain_openai import ChatOpenAI"
   ]
  },
  {
   "cell_type": "code",
   "execution_count": 2,
   "id": "f643c8b0",
   "metadata": {},
   "outputs": [],
   "source": [
    "graph = FalkorDBGraph(database=\"movies\")"
   ]
  },
  {
   "cell_type": "code",
   "execution_count": 3,
   "id": "48f6e0e1",
   "metadata": {},
   "outputs": [
    {
     "data": {
      "text/plain": [
       "[]"
      ]
     },
     "execution_count": 3,
     "metadata": {},
     "output_type": "execute_result"
    }
   ],
   "source": [
    "graph.query(\n",
    "    \"\"\"\n",
    "    CREATE \n",
    "        (al:Person {name: 'Al Pacino', birthDate: '1940-04-25'}),\n",
    "        (robert:Person {name: 'Robert De Niro', birthDate: '1943-08-17'}),\n",
    "        (tom:Person {name: 'Tom Cruise', birthDate: '1962-07-3'}),\n",
    "        (val:Person {name: 'Val Kilmer', birthDate: '1959-12-31'}),\n",
    "        (anthony:Person {name: 'Anthony Edwards', birthDate: '1962-7-19'}),\n",
    "        (meg:Person {name: 'Meg Ryan', birthDate: '1961-11-19'}),\n",
    "\n",
    "        (god1:Movie {title: 'The Godfather'}),\n",
    "        (god2:Movie {title: 'The Godfather: Part II'}),\n",
    "        (god3:Movie {title: 'The Godfather Coda: The Death of Michael Corleone'}),\n",
    "        (top:Movie {title: 'Top Gun'}),\n",
    "\n",
    "        (al)-[:ACTED_IN]->(god1),\n",
    "        (al)-[:ACTED_IN]->(god2),\n",
    "        (al)-[:ACTED_IN]->(god3),\n",
    "        (robert)-[:ACTED_IN]->(god2),\n",
    "        (tom)-[:ACTED_IN]->(top),\n",
    "        (val)-[:ACTED_IN]->(top),\n",
    "        (anthony)-[:ACTED_IN]->(top),\n",
    "        (meg)-[:ACTED_IN]->(top)\n",
    "\"\"\"\n",
    ")"
   ]
  },
  {
   "cell_type": "code",
   "execution_count": 21,
   "id": "e4abe977",
   "metadata": {},
   "outputs": [
    {
     "ename": "NameError",
     "evalue": "name 'graph' is not defined",
     "output_type": "error",
     "traceback": [
      "\u001b[31m---------------------------------------------------------------------------\u001b[39m",
      "\u001b[31mNameError\u001b[39m                                 Traceback (most recent call last)",
      "\u001b[36mCell\u001b[39m\u001b[36m \u001b[39m\u001b[32mIn[21]\u001b[39m\u001b[32m, line 1\u001b[39m\n\u001b[32m----> \u001b[39m\u001b[32m1\u001b[39m \u001b[43mgraph\u001b[49m.refresh_schema()\n\u001b[32m      2\u001b[39m \u001b[38;5;28mprint\u001b[39m(graph.schema)\n\u001b[32m      4\u001b[39m \u001b[38;5;28;01mimport\u001b[39;00m\u001b[38;5;250m \u001b[39m\u001b[34;01mos\u001b[39;00m\n",
      "\u001b[31mNameError\u001b[39m: name 'graph' is not defined"
     ]
    }
   ],
   "source": [
    "graph.refresh_schema()\n",
    "print(graph.schema)\n",
    "\n",
    "import os\n",
    "\n",
    "os.environ[\"OPENAI_API_KEY\"] =os.getenv(\"OPENAI_API_KEY\")"
   ]
  },
  {
   "cell_type": "code",
   "execution_count": 6,
   "id": "8e1b4f8b",
   "metadata": {},
   "outputs": [],
   "source": [
    "chain = FalkorDBQAChain.from_llm(ChatOpenAI(temperature=0),allow_dangerous_requests = True, graph=graph, verbose=True)"
   ]
  },
  {
   "cell_type": "code",
   "execution_count": 7,
   "id": "02912b47",
   "metadata": {},
   "outputs": [
    {
     "name": "stderr",
     "output_type": "stream",
     "text": [
      "/var/folders/n2/2s0tjc891jx80m_1lwcfhm_40000gn/T/ipykernel_58647/1697278274.py:1: LangChainDeprecationWarning: The method `Chain.run` was deprecated in langchain 0.1.0 and will be removed in 1.0. Use :meth:`~invoke` instead.\n",
      "  chain.run(\"Who played in Top Gun?\")\n"
     ]
    },
    {
     "name": "stdout",
     "output_type": "stream",
     "text": [
      "\n",
      "\n",
      "\u001b[1m> Entering new FalkorDBQAChain chain...\u001b[0m\n",
      "Generated Cypher:\n",
      "\u001b[32;1m\u001b[1;3mMATCH (p:Person)-[:ACTED_IN]->(m:Movie)\n",
      "WHERE m.title = 'Top Gun'\n",
      "RETURN p.name\u001b[0m\n",
      "Full Context:\n",
      "\u001b[32;1m\u001b[1;3m[['Tom Cruise'], ['Val Kilmer'], ['Anthony Edwards'], ['Meg Ryan']]\u001b[0m\n",
      "\n",
      "\u001b[1m> Finished chain.\u001b[0m\n"
     ]
    },
    {
     "data": {
      "text/plain": [
       "'Tom Cruise, Val Kilmer, Anthony Edwards, Meg Ryan played in Top Gun.'"
      ]
     },
     "execution_count": 7,
     "metadata": {},
     "output_type": "execute_result"
    }
   ],
   "source": [
    "chain.run(\"Who played in Top Gun?\")"
   ]
  },
  {
   "cell_type": "code",
   "execution_count": 8,
   "id": "7730fb8d",
   "metadata": {},
   "outputs": [
    {
     "name": "stdout",
     "output_type": "stream",
     "text": [
      "\n",
      "\n",
      "\u001b[1m> Entering new FalkorDBQAChain chain...\u001b[0m\n",
      "Generated Cypher:\n",
      "\u001b[32;1m\u001b[1;3mMATCH (p:Person)-[:ACTED_IN]->(m:Movie)\n",
      "WHERE m.title = 'The Godfather: Part II'\n",
      "RETURN p.name, p.birthDate\n",
      "ORDER BY p.birthDate ASC\n",
      "LIMIT 1\u001b[0m\n",
      "Full Context:\n",
      "\u001b[32;1m\u001b[1;3m[['Al Pacino', '1940-04-25']]\u001b[0m\n",
      "\n",
      "\u001b[1m> Finished chain.\u001b[0m\n"
     ]
    },
    {
     "data": {
      "text/plain": [
       "'Al Pacino is the oldest actor who played in The Godfather: Part II.'"
      ]
     },
     "execution_count": 8,
     "metadata": {},
     "output_type": "execute_result"
    }
   ],
   "source": [
    "chain.run(\"Who is the oldest actor who played in The Godfather: Part II?\")"
   ]
  },
  {
   "cell_type": "code",
   "execution_count": 9,
   "id": "6154406c",
   "metadata": {},
   "outputs": [
    {
     "name": "stdout",
     "output_type": "stream",
     "text": [
      "\n",
      "\n",
      "\u001b[1m> Entering new FalkorDBQAChain chain...\u001b[0m\n",
      "Generated Cypher:\n",
      "\u001b[32;1m\u001b[1;3mMATCH (p:Person {name: 'Robert De Niro'})-[:ACTED_IN]->(m:Movie)\n",
      "RETURN m.title\u001b[0m\n",
      "Full Context:\n",
      "\u001b[32;1m\u001b[1;3m[['The Godfather: Part II']]\u001b[0m\n",
      "\n",
      "\u001b[1m> Finished chain.\u001b[0m\n"
     ]
    },
    {
     "data": {
      "text/plain": [
       "'Robert De Niro played in The Godfather: Part II.'"
      ]
     },
     "execution_count": 9,
     "metadata": {},
     "output_type": "execute_result"
    }
   ],
   "source": [
    "chain.run(\"Robert De Niro played in which movies?\")"
   ]
  },
  {
   "cell_type": "code",
   "execution_count": 2,
   "id": "bfdec28e",
   "metadata": {},
   "outputs": [],
   "source": [
    "graph1 = FalkorDBGraph(database=\"One-Hop to Pwn\")"
   ]
  },
  {
   "cell_type": "code",
   "execution_count": 3,
   "id": "111725ec",
   "metadata": {},
   "outputs": [
    {
     "data": {
      "text/plain": [
       "[]"
      ]
     },
     "execution_count": 3,
     "metadata": {},
     "output_type": "execute_result"
    }
   ],
   "source": [
    "graph1.query(\n",
    "    \"\"\"\n",
    "    MATCH (ip:IPRange {cidr: \"0.0.0.0/0\"})\n",
    "        -[:INGRESS_TO]->(sg:SecurityGroup)\n",
    "        <-[:ATTACHED_TO]-(vm:Compute)\n",
    "        -[:ASSUMES]->(role:IAMRole)\n",
    "        -[:ALLOWS]->(ds:DataStore)\n",
    "    RETURN \n",
    "        ip.cidr AS Public_IP, \n",
    "        vm.name AS Exposed_VM, \n",
    "        role.name AS IAM_Role, \n",
    "        ds.name AS Accessible_DataStore\n",
    "\"\"\"\n",
    ")"
   ]
  },
  {
   "cell_type": "code",
   "execution_count": 4,
   "id": "599c17c0",
   "metadata": {},
   "outputs": [
    {
     "data": {
      "text/plain": [
       "[]"
      ]
     },
     "execution_count": 4,
     "metadata": {},
     "output_type": "execute_result"
    }
   ],
   "source": [
    "graph1.query(\n",
    "    \"\"\"\n",
    "    CREATE (:IPRange {cidr: \"0.0.0.0/0\", name: \"Internet\"})\n",
    "    CREATE (:Compute {name: \"Web-Server-01\", platform: \"AWS\", region: \"us-east-1\"})\n",
    "    CREATE (:IAMRole {name: \"DataAccessorRole\"})\n",
    "    CREATE (:DataStore {name: \"Sensitive-Data-Bucket\", type: \"S3\"})\n",
    "    CREATE (:SecurityGroup {name: \"PublicWebSG\"})\n",
    "    \"\"\"\n",
    ")"
   ]
  },
  {
   "cell_type": "code",
   "execution_count": 5,
   "id": "e6eca19f",
   "metadata": {},
   "outputs": [
    {
     "data": {
      "text/plain": [
       "[]"
      ]
     },
     "execution_count": 5,
     "metadata": {},
     "output_type": "execute_result"
    }
   ],
   "source": [
    "graph1.query(\n",
    "    \"\"\"\n",
    "    MATCH (i:IPRange {name: \"Internet\"}), (sg:SecurityGroup {name: \"PublicWebSG\"})\n",
    "    CREATE (i)-[:INGRESS_TO]->(sg)\n",
    "    \"\"\"\n",
    ")"
   ]
  },
  {
   "cell_type": "code",
   "execution_count": 6,
   "id": "de3d330c",
   "metadata": {},
   "outputs": [
    {
     "data": {
      "text/plain": [
       "[]"
      ]
     },
     "execution_count": 6,
     "metadata": {},
     "output_type": "execute_result"
    }
   ],
   "source": [
    "graph1.query(\n",
    "    \"\"\"\n",
    "    MATCH (c:Compute {name: \"Web-Server-01\"}), (sg:SecurityGroup {name: \"PublicWebSG\"})\n",
    "    CREATE (c)-[:ATTACHED_TO]->(sg)\n",
    "    \"\"\"\n",
    ")\n"
   ]
  },
  {
   "cell_type": "code",
   "execution_count": 7,
   "id": "e221358b",
   "metadata": {},
   "outputs": [
    {
     "data": {
      "text/plain": [
       "[]"
      ]
     },
     "execution_count": 7,
     "metadata": {},
     "output_type": "execute_result"
    }
   ],
   "source": [
    "graph1.query(\n",
    "    \"\"\"\n",
    "    MATCH (c:Compute {name: \"Web-Server-01\"}), (r:IAMRole {name: \"DataAccessorRole\"})\n",
    "    CREATE (c)-[:ASSUMES]->(r)\n",
    "    \"\"\"\n",
    ")"
   ]
  },
  {
   "cell_type": "code",
   "execution_count": 8,
   "id": "08767190",
   "metadata": {},
   "outputs": [
    {
     "data": {
      "text/plain": [
       "[]"
      ]
     },
     "execution_count": 8,
     "metadata": {},
     "output_type": "execute_result"
    }
   ],
   "source": [
    "graph1.query(\n",
    "    \"\"\"\n",
    "    MATCH (r:IAMRole {name: \"DataAccessorRole\"}), (ds:DataStore {name: \"Sensitive-Data-Bucket\"})\n",
    "    CREATE (r)-[:ALLOWS {actions: \"s3:GetObject\"}]->(ds)\n",
    "    \"\"\"\n",
    ")"
   ]
  },
  {
   "cell_type": "code",
   "execution_count": 13,
   "id": "94687aeb",
   "metadata": {},
   "outputs": [],
   "source": [
    "query_result = graph1.query(\n",
    "    \"\"\"\n",
    "    MATCH (ip:IPRange {cidr: \"0.0.0.0/0\"})\n",
    "        -[:INGRESS_TO]->(sg:SecurityGroup)\n",
    "        <-[:ATTACHED_TO]-(vm:Compute)\n",
    "        -[:ASSUMES]->(role:IAMRole)\n",
    "        -[:ALLOWS]->(ds:DataStore)\n",
    "    RETURN \n",
    "        ip.cidr AS Public_IP, \n",
    "        vm.name AS Exposed_VM, \n",
    "        role.name AS IAM_Role, \n",
    "        ds.name AS Accessible_DataStore\n",
    "\"\"\"\n",
    ")\n"
   ]
  },
  {
   "cell_type": "code",
   "execution_count": 15,
   "id": "b434e375",
   "metadata": {},
   "outputs": [
    {
     "data": {
      "text/plain": [
       "[]"
      ]
     },
     "execution_count": 15,
     "metadata": {},
     "output_type": "execute_result"
    }
   ],
   "source": [
    "# Create a new Security Group named \"SSH-Access\"\n",
    "graph1.query(\n",
    "    \"\"\"\n",
    "    CREATE (:SecurityGroup {name: \"SSH-Access\"})\n",
    "    \"\"\"\n",
    ")\n",
    "\n",
    "# Create a relationship from the Internet to this new Security Group,\n",
    "# with a property that specifies the port.\n",
    "graph1.query(\n",
    "    \"\"\"\n",
    "    MATCH (i:IPRange {name: \"Internet\"}), (sg:SecurityGroup {name: \"SSH-Access\"})\n",
    "    CREATE (i)-[:INGRESS_TO {port: 22}]->(sg)\n",
    "    \"\"\"\n",
    ")\n",
    "\n",
    "# Attach the existing Web-Server-01 to this new security group\n",
    "graph1.query(\n",
    "    \"\"\"\n",
    "    MATCH (c:Compute {name: \"Web-Server-01\"}), (sg:SecurityGroup {name: \"SSH-Access\"})\n",
    "    CREATE (c)-[:ATTACHED_TO]->(sg)\n",
    "    \"\"\"\n",
    ")"
   ]
  },
  {
   "cell_type": "code",
   "execution_count": 16,
   "id": "1de39e62",
   "metadata": {},
   "outputs": [
    {
     "name": "stdout",
     "output_type": "stream",
     "text": [
      "[['0.0.0.0/0', 'Web-Server-01', 'DataAccessorRole', 'Sensitive-Data-Bucket']]\n"
     ]
    }
   ],
   "source": [
    "print(query_result)\n"
   ]
  },
  {
   "cell_type": "code",
   "execution_count": 22,
   "id": "ed66179c",
   "metadata": {},
   "outputs": [
    {
     "name": "stdout",
     "output_type": "stream",
     "text": [
      "Node properties: [[OrderedDict({'label': 'DataStore', 'keys': ['name', 'type']})], [OrderedDict({'label': 'IAMRole', 'keys': ['name']})], [OrderedDict({'label': 'IPRange', 'keys': ['cidr', 'name']})], [OrderedDict({'label': 'Compute', 'keys': ['name', 'platform', 'region']})], [OrderedDict({'label': 'SecurityGroup', 'keys': ['name']})]]\n",
      "Relationships properties: [[OrderedDict({'types': 'INGRESS_TO', 'keys': ['port']})], [OrderedDict({'types': 'ALLOWS', 'keys': ['actions']})], [OrderedDict({'types': 'ASSUMES', 'keys': []})], [OrderedDict({'types': 'ATTACHED_TO', 'keys': []})]]\n",
      "Relationships: [[OrderedDict({'end': 'SecurityGroup', 'start': 'IPRange', 'type': 'INGRESS_TO'})], [OrderedDict({'end': 'IAMRole', 'start': 'Compute', 'type': 'ASSUMES'})], [OrderedDict({'end': 'SecurityGroup', 'start': 'Compute', 'type': 'ATTACHED_TO'})], [OrderedDict({'end': 'DataStore', 'start': 'IAMRole', 'type': 'ALLOWS'})]]\n",
      "\n"
     ]
    }
   ],
   "source": [
    "graph1.refresh_schema()\n",
    "print(graph1.schema)\n",
    "\n",
    "import os\n",
    "\n",
    "os.environ[\"OPENAI_API_KEY\"] = os.getenv(\"OPENAI_API_KEY\")"
   ]
  },
  {
   "cell_type": "code",
   "execution_count": 18,
   "id": "a9194c69",
   "metadata": {},
   "outputs": [],
   "source": [
    "chain1 = FalkorDBQAChain.from_llm(ChatOpenAI(temperature=0),allow_dangerous_requests = True, graph=graph1, verbose=True)"
   ]
  },
  {
   "cell_type": "code",
   "execution_count": 20,
   "id": "ae7e2dfe",
   "metadata": {},
   "outputs": [
    {
     "name": "stdout",
     "output_type": "stream",
     "text": [
      "\n",
      "\n",
      "\u001b[1m> Entering new FalkorDBQAChain chain...\u001b[0m\n",
      "Generated Cypher:\n",
      "\u001b[32;1m\u001b[1;3mMATCH (sg:SecurityGroup)-[r:INGRESS_TO]->(ip:IPRange)\n",
      "WHERE r.port = 22\n",
      "RETURN sg\u001b[0m\n",
      "Full Context:\n",
      "\u001b[32;1m\u001b[1;3m[]\u001b[0m\n",
      "\n",
      "\u001b[1m> Finished chain.\u001b[0m\n"
     ]
    },
    {
     "data": {
      "text/plain": [
       "\"I don't know the answer.\""
      ]
     },
     "execution_count": 20,
     "metadata": {},
     "output_type": "execute_result"
    }
   ],
   "source": [
    "chain1.run(\"What security groups are exposed to the internet on port 22?\")"
   ]
  },
  {
   "cell_type": "code",
   "execution_count": 19,
   "id": "aa64d119",
   "metadata": {},
   "outputs": [
    {
     "name": "stdout",
     "output_type": "stream",
     "text": [
      "\n",
      "\n",
      "\u001b[1m> Entering new FalkorDBQAChain chain...\u001b[0m\n",
      "Generated Cypher:\n",
      "\u001b[32;1m\u001b[1;3mMATCH (c:Compute)-[:ATTACHED_TO]->(sg:SecurityGroup)-[:INGRESS_TO]->(ip:IPRange)\n",
      "WHERE sg.name = 'SSH'\n",
      "RETURN c, sg, ip\u001b[0m\n",
      "Full Context:\n",
      "\u001b[32;1m\u001b[1;3m[]\u001b[0m\n",
      "\n",
      "\u001b[1m> Finished chain.\u001b[0m\n"
     ]
    },
    {
     "data": {
      "text/plain": [
       "\"I don't know the answer.\""
      ]
     },
     "execution_count": 19,
     "metadata": {},
     "output_type": "execute_result"
    }
   ],
   "source": [
    "chain1.run(\"Flag any SSH exposure\")\n"
   ]
  }
 ],
 "metadata": {
  "kernelspec": {
   "display_name": "Python 3",
   "language": "python",
   "name": "python3"
  },
  "language_info": {
   "codemirror_mode": {
    "name": "ipython",
    "version": 3
   },
   "file_extension": ".py",
   "mimetype": "text/x-python",
   "name": "python",
   "nbconvert_exporter": "python",
   "pygments_lexer": "ipython3",
   "version": "3.12.9"
  }
 },
 "nbformat": 4,
 "nbformat_minor": 5
}
